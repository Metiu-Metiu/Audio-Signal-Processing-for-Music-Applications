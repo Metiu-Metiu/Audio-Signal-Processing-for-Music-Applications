{
 "cells": [
  {
   "cell_type": "markdown",
   "metadata": {},
   "source": [
    "# Exercise 10-1: Music piece combining sound transformations\n",
    "\n",
    "The aim of this exercise is to extend what you did in Exercise 8 by having no limitations on the sounds used and the analysis models and transformations applied. This is an exercise to be creative and make some interesting music. The end result should be a short music piece (about a minute long) combining various transformed sounds using the tools explained in class.\n",
    "\n",
    "In A8, you explored some transformations using the HPS model, but there were many limitations in that assignment:\n",
    "\n",
    "1. You used a single analysis model, HPS. Now you can use any model presented in class or combinations of them.\n",
    "2. You applied just one transformation to each sound file. Now you can combine and add several transformations of the same sound.\n",
    "3. A single type of analysis and transformation was done for the whole sound. Now you can divide the sound into sections and use different analysis and transformations to each part.\n",
    "4. The transformation was applied in a single pass. Now you can perform multiple passes of the same sound through different kinds of transformations.\n",
    "\n",
    "In this exercise, you can explore the potential of all the algorithms presented in class and come up with more creative transformations and combinations of them. You can combine sounds, models, and transformations, in any way you want. You can create your own mix of transformed sounds to make your own music composition! \n",
    "\n",
    "Some of these transformations might require you to change and modify some code. Feel free to dig in!\n"
   ]
  },
  {
   "cell_type": "markdown",
   "metadata": {},
   "source": [
    "## Part 1\n",
    "\n",
    "Choose several sounds from freesound.org that have a good scope for being analyzed with the techniques described in class and good potential for creative transformations. As with E8, you can even upload your own sounds to Freesound and use them in the exercise. The sounds chosen should be naturally produced (any sound that was not synthesized). e.g. acoustic instrument sounds, speech, nature sounds, and ambient sounds, to name a few. Heavily processed natural sounds are acceptable, but refrain from using them unless justified.\n",
    "\n",
    "Perform the analysis and check thart the synthesis without transformations is good.\n"
   ]
  },
  {
   "cell_type": "code",
   "execution_count": null,
   "metadata": {},
   "outputs": [],
   "source": [
    "import sys, os\n",
    "sys.path.append('../software/models/')\n",
    "import utilFunctions as UF\n",
    "\n",
    "# read sounds chosen and perform the analysis\n",
    "### your code here\n",
    "\n",
    "\n"
   ]
  },
  {
   "cell_type": "markdown",
   "metadata": {},
   "source": [
    "## Part 2\n",
    "\n",
    "Perform different transformations on each of the sounds, or parts of them. Then mix them together (overlapping sounds is allowed) using Audacity or a similar tool to create a single audio file. The only constraints are that you should only use models that you studied in the class (STFT, Sinusoidal, SPR, HPR, SPS, HPS) for analysis. This is a music piece you just composed with transformations on sound samples!\n"
   ]
  },
  {
   "cell_type": "code",
   "execution_count": null,
   "metadata": {},
   "outputs": [],
   "source": [
    "# perform the transformations\n",
    "### your code here"
   ]
  },
  {
   "cell_type": "markdown",
   "metadata": {},
   "source": [
    "## Part 3\n",
    "\n",
    "Mix the sounds together (overlapping sounds is allowed). Be as creative as you can. You can repeat the sounds you have chosen. \n",
    "\n",
    "Give a description of what you did, giving the Freesound link to the sound files you started from, explaining the analysis and transformation you did to each of them, and explaining how you mixed them to obtain the final piece. The description should be like a script from which the evaluator can have a clear idea of the process that you followed. No need to give all the details, thus no need to have a script from which the composition could be regenerated, but the description should be clear enough to understand the whole process.\n"
   ]
  },
  {
   "cell_type": "code",
   "execution_count": null,
   "metadata": {},
   "outputs": [],
   "source": [
    "# 3.1 mix the sounds and explain your choices\n",
    "### your code here\n",
    "\n",
    "\n"
   ]
  },
  {
   "cell_type": "markdown",
   "metadata": {},
   "source": [
    "### 3.2 Explain Part 3"
   ]
  }
 ],
 "metadata": {
  "kernelspec": {
   "display_name": "Python 3 (ipykernel)",
   "language": "python",
   "name": "python3"
  },
  "language_info": {
   "codemirror_mode": {
    "name": "ipython",
    "version": 3
   },
   "file_extension": ".py",
   "mimetype": "text/x-python",
   "name": "python",
   "nbconvert_exporter": "python",
   "pygments_lexer": "ipython3",
   "version": "3.9.13"
  }
 },
 "nbformat": 4,
 "nbformat_minor": 2
}
