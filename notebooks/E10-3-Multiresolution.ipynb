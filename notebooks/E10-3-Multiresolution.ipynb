{
 "cells": [
  {
   "cell_type": "markdown",
   "metadata": {},
   "source": [
    "# E10-3: A multi-resolution sinusoidal model\n",
    "\n",
    "In this exercise you will implement a multi-resolution sine model by modifying the `sineModel()` function. \n",
    "\n",
    "You have seen through several assignments that the choice of window size is an important tradeoff between time and frequency resolution. Longer windows have a better frequency resolution and can resolve two close sinusoids even at low frequencies, while smaller windows have a better time resolution leading to sharper onsets. So far, in all the analyses, we have only considered a single window length over the whole sound. As we know, analysis of signals with low frequency components needs longer windows as compared to signals with high frequency content. The optimal choice of window length is thus dependent on the frequency content of the signal. In other words, it is better to choose a longer window for the analysis of the low frequencies while a shorter window is sufficient for higher frequencies. In this exercise, you will explore the use of multiple window sizes for analysis in different frequency bands of the signals, what is called multi-resolution.\n",
    "\n",
    "For each audio frame of `x` you should compute three different DFTs with three different window sizes and find the sinusoidal peaks for each of the DFTs. For example, you can choose window sizes `M1 = 4095, M2 = 2047, M3 = 1023`, to generate three windows w1, w2, w3. Choose N1, N2, N3 to be the power of two bigger than the corresponding window size. Then compute the spectra, `X1`, `X2`, and `X3` using `dftAnal()`. Define the frequency bands like `B1: 0 <= f < 1000Hz, B2: 1000 <= f < 5000, B3: 5000 <= f < 22050` and find the peaks of `B1` in `X1`, the ones of `B2` in `X2`, and the ones of `B3` in `X3`. From the peaks we finally re-synthesize the frame and generate the output `y`. \n",
    "\n",
    "Complete `sineModelMultiRes()`, by copiying and modifying the code from `SineModel()`. The functions should take as input three windows with different sizes, three FFT sizes, and the values for the frequency bands. Write the code to implement the multi-resolution analysis as described above.\n",
    "\n",
    "Choose two different polyphonic recordings from freesound that have both a relevant melodic and percussion components. Edit them and change their format as needed. Choose suitable set of parameters for their analysis. Experiment with different window sizes and fruequency bands for the two sounds such that you get both crisp onsets and good frequency resolution. Get the best posible base line reconstruction with `SineModel()` and the best with `sineModelMultiRes()`. Listen the sounds and visualize the information that might be needed to undertand the process. \n",
    "\n",
    "Your explanation should include:\n",
    "\n",
    "1. Freesound link to the two sounds chosen.\n",
    "2. Explanation and justification of the band edges and the window sizes for each sound.\n",
    "3. Observations about the advantages of a multi-resolution analysis (comment on the time-frequency resolution, computational complexity and extensions to HPR and HPS models).\n",
    "4. Challenges you might face if you were to extend it to HPR and HPS models (mainly in sinusoid tracking and F0 estimation).\n",
    "5. Further methods to improving the time-frequency resolution trade-off. \n"
   ]
  },
  {
   "cell_type": "code",
   "execution_count": 14,
   "metadata": {},
   "outputs": [
    {
     "name": "stdout",
     "output_type": "stream",
     "text": [
      "10\n",
      "Import done\n"
     ]
    }
   ],
   "source": [
    "import sys, os\n",
    "from scipy.signal import get_window\n",
    "import numpy as np\n",
    "from scipy.signal import blackmanharris, triang\n",
    "from scipy.fftpack import ifft, fftshift\n",
    "import math\n",
    "sys.path.append('../software/models/')\n",
    "import dftModel as DFT\n",
    "import utilFunctions as UF\n",
    "import dftModel as DFT\n",
    "import utilFunctions as UF\n",
    "import sineModel as SM\n",
    "import IPython.display as ipd\n",
    "print(5 + 5)\n",
    "print(\"Import done\")"
   ]
  },
  {
   "cell_type": "code",
   "execution_count": 22,
   "metadata": {},
   "outputs": [
    {
     "ename": "IndentationError",
     "evalue": "unindent does not match any outer indentation level (<tokenize>, line 12)",
     "output_type": "error",
     "traceback": [
      "\u001b[0;36m  File \u001b[0;32m\"<tokenize>\"\u001b[0;36m, line \u001b[0;32m12\u001b[0m\n\u001b[0;31m    print(\"Ciao\")\u001b[0m\n\u001b[0m    ^\u001b[0m\n\u001b[0;31mIndentationError\u001b[0m\u001b[0;31m:\u001b[0m unindent does not match any outer indentation level\n"
     ]
    }
   ],
   "source": [
    "def sineModelMultiRes(x, fs, w, N, t, B):\n",
    "\t\"\"\"\n",
    "\tAnalysis/synthesis of a sound using the sinusoidal model, without sine tracking\n",
    "\tInputs:\n",
    "        x: input array sound\n",
    "        w: 3 analysis windows\n",
    "        t: threshold in negative dB \n",
    "        B: 3 frequency boundaries\n",
    "\tOutput:\n",
    "        y: output array sound\n",
    "\t\"\"\"\n",
    "    print(\"Ciao\")\n",
    "    return\n",
    " \n",
    "### your code here, start from copying the code from sineModel()\n",
    "\n"
   ]
  },
  {
   "cell_type": "code",
   "execution_count": 23,
   "metadata": {},
   "outputs": [
    {
     "ename": "NameError",
     "evalue": "name 'XX' is not defined",
     "output_type": "error",
     "traceback": [
      "\u001b[0;31m---------------------------------------------------------------------------\u001b[0m",
      "\u001b[0;31mNameError\u001b[0m                                 Traceback (most recent call last)",
      "\u001b[0;32m/var/folders/_g/1kw86bfs3kl83jy8_q3282kh0000gn/T/ipykernel_26725/4117661899.py\u001b[0m in \u001b[0;36m<module>\u001b[0;34m\u001b[0m\n\u001b[1;32m      2\u001b[0m \u001b[0;31m### set the parameters\u001b[0m\u001b[0;34m\u001b[0m\u001b[0;34m\u001b[0m\u001b[0m\n\u001b[1;32m      3\u001b[0m \u001b[0minput_file\u001b[0m \u001b[0;34m=\u001b[0m \u001b[0;34m'XXX'\u001b[0m\u001b[0;34m\u001b[0m\u001b[0;34m\u001b[0m\u001b[0m\n\u001b[0;32m----> 4\u001b[0;31m \u001b[0mM\u001b[0m \u001b[0;34m=\u001b[0m \u001b[0mXX\u001b[0m\u001b[0;34m\u001b[0m\u001b[0;34m\u001b[0m\u001b[0m\n\u001b[0m\u001b[1;32m      5\u001b[0m \u001b[0mN\u001b[0m \u001b[0;34m=\u001b[0m \u001b[0mXX\u001b[0m\u001b[0;34m\u001b[0m\u001b[0;34m\u001b[0m\u001b[0m\n\u001b[1;32m      6\u001b[0m \u001b[0mt\u001b[0m \u001b[0;34m=\u001b[0m \u001b[0mXX\u001b[0m\u001b[0;34m\u001b[0m\u001b[0;34m\u001b[0m\u001b[0m\n",
      "\u001b[0;31mNameError\u001b[0m: name 'XX' is not defined"
     ]
    }
   ],
   "source": [
    "# base line sinusoidal analysis/synthesis\n",
    "### set the parameters\n",
    "input_file = 'XXX'\n",
    "M = XX\n",
    "N = XX\n",
    "t = XX\n",
    "window = 'XX'\n",
    "\n",
    "# no need to change code from here\n",
    "fs, x = UF.wavread(input_file) \n",
    "w = get_window(window, M) \n",
    "y = SM.sineModel(x, fs, w, N, t)\n",
    "ipd.display(ipd.Audio(data=x, rate=fs))\n",
    "ipd.display(ipd.Audio(data=y, rate=fs))"
   ]
  },
  {
   "cell_type": "code",
   "execution_count": null,
   "metadata": {},
   "outputs": [],
   "source": [
    "# multiresolution sinusoidal analysis/synthesis\n",
    "### set the parameters\n",
    "input_file = 'XXX'\n",
    "M = [XX, XX, XX]\n",
    "N = [XX, XX, XX]\n",
    "t = XX\n",
    "B = [XX, XX, XX]\n",
    "\n",
    "# no need to change code from here\n",
    "y = sineModelMultiRes(x, fs, w, N, t, B)\n",
    "ipd.display(ipd.Audio(data=y, rate=fs))"
   ]
  },
  {
   "cell_type": "markdown",
   "metadata": {},
   "source": [
    "## Your explanation\n",
    "\n"
   ]
  }
 ],
 "metadata": {
  "kernelspec": {
   "display_name": "Python 3 (ipykernel)",
   "language": "python",
   "name": "python3"
  },
  "language_info": {
   "codemirror_mode": {
    "name": "ipython",
    "version": 3
   },
   "file_extension": ".py",
   "mimetype": "text/x-python",
   "name": "python",
   "nbconvert_exporter": "python",
   "pygments_lexer": "ipython3",
   "version": "3.9.13"
  }
 },
 "nbformat": 4,
 "nbformat_minor": 2
}
