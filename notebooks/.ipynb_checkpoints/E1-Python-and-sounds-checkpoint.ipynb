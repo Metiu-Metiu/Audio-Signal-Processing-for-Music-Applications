{
 "cells": [
  {
   "cell_type": "markdown",
   "metadata": {},
   "source": [
    "# Exercise 1: Python and sounds\n",
    "\n",
    "This exercise aims to get familiar with some basic audio operations using Python. There are four parts to it: 1) Reading an audio file, 2) Basic operations with audio, 3) Python array indexing, and 4) Downsampling audio - Changing the sampling rate. \n",
    "\n",
    "Before doing the exercise, please go through the general information for all the exercises given in `README.txt` of the `notebooks` directory. \n",
    "\n",
    "### Relevant concepts\n",
    "\n",
    "__Python:__ Python is a powerful and easy to learn programming language, which is used in a wide variety of application areas. More information in https://www.python.org/. We will use python in all the exercises and in this first one you will start learning about it by performing some basic operations with sound files. \n",
    "\n",
    "__Jupyter notebooks:__ Jupiter notebooks are interactive documents containing live code, equations, visualizations and narrative text. More information in https://jupyter.org/. It supports Python and all the exercises here use it.\n",
    "\n",
    "__Wav file:__ The wav file format is a lossless format to store sounds on a hard drive. Each audio sample is stored as a 16 bit integer number (sometimes also as 24 bit integer or 32 bit float). In this course we will work with only one type of audio files. All the sound files we use in the assignments should be wav files that are mono (one channel), in which the samples are stored in 16 bits, and that use (most of the time) the sampling rate of 44100 Hz. Once read into python, the samples will be converted to floating point values with a range from -1 to 1, resulting in a one-dimensional array of floating point values."
   ]
  },
  {
   "cell_type": "markdown",
   "metadata": {},
   "source": [
    "## Part 1 - Reading in an audio file\n",
    "The `read_audio_samples()` function bellow should read an audio file and return a specified number of consecutive samples of the file starting at a given sample. \n",
    "\n",
    "The input to the function is the file name (including the path), plus the location of first sample and the number of consecutive samples to take, and the output should be a numpy array.\n",
    "\n",
    "If you use the `wavread()` function from the `utilFunctions` module available in the `software/models` directory, the input samples will be automatically converted to a numpy array of floating point numbers with a range from -1 to 1, which is what we want. \n",
    "\n",
    "Remember that in python, the index of the first sample of an array is 0 and not 1."
   ]
  },
  {
   "cell_type": "code",
   "execution_count": null,
   "metadata": {},
   "outputs": [],
   "source": [
    "import sys\n",
    "import os\n",
    "import numpy as np\n",
    "# to use this notebook with colab uncomment the next line\n",
    "# !git clone https://github.com/MTG/sms-tools.git\n",
    "# and change the next line to sys.path.append('sms-tools/software/models/')\n",
    "sys.path.append('../software/models/')\n",
    "from utilFunctions import wavread, wavwrite"
   ]
  },
  {
   "cell_type": "code",
   "execution_count": 3,
   "metadata": {},
   "outputs": [],
   "source": [
    "# E1 - 1.1: Complete the read_audio_samples() function\n",
    "\n",
    "def read_audio_samples(input_file, first_sample=50001, num_samples=10):\n",
    "    \"\"\"Read num_samples samples from an audio file starting at sample first_sample\n",
    "    \n",
    "    Args:\n",
    "        input_file (str): path of a wav file      \n",
    "    \n",
    "    Returns:\n",
    "        np.array: numpy array containing the selected samples\n",
    "    \n",
    "    \"\"\"\n",
    "    \n",
    "    fs, x = wavread(inputFile)\n",
    "\n",
    "    \"\"\"\n",
    "        x is a numpy array, as specified in the documentation for scipy.io.wavfile.read()\n",
    "        https://docs.scipy.org/doc/scipy/reference/generated/scipy.io.wavfile.read.html#scipy.io.wavfile.read\n",
    "    \"\"\"\n",
    "\n",
    "    if (len(x.shape) > 50010):  # raise error if inputFile has more than 500010 samples\n",
    "        raise ValueError(\"Audio file should have not less than 50010 samples\")\n",
    "\n",
    "    # select only the desired samples\n",
    "    x = x[50000:50010]\n",
    "    print(\"Samples values from sample 50000 to sample 50010;\")\n",
    "    print(x)\n",
    "    return x"
   ]
  },
  {
   "cell_type": "markdown",
   "metadata": {},
   "source": [
    "You can use as input the sound files from the sounds directory, thus using a relative path to it. If you run the `read_audio_samples()` function using the `piano.wav` sound file as input, with the default arguments, it should return the following samples:\n",
    "```\n",
    "array([-0.06213569, -0.04541154, -0.02734458, -0.0093997, 0.00769066, 0.02319407, 0.03503525, 0.04309214, 0.04626606,  0.0441908], dtype=float32)\n",
    "```"
   ]
  },
  {
   "cell_type": "code",
   "execution_count": null,
   "metadata": {},
   "outputs": [],
   "source": [
    "# E1 - 1.2: Call read_audio_samples() with the proposed input sound and default arguments\n",
    "\n",
    "# Here I could omit passing the last 2 arguments\n",
    "read_audio_samples(\"../sounds/piano.wav\", 50001, 10)"
   ]
  },
  {
   "cell_type": "markdown",
   "metadata": {},
   "source": [
    "## Part 2 - Basic operations with audio"
   ]
  },
  {
   "cell_type": "markdown",
   "metadata": {},
   "source": [
    "The function `minMaxAudio()` should read an audio file and return the minimum and  maximum values of the audio samples in that file. The input to the function is the wav file name (including the path) and the output should be two floating point values returned as a tuple."
   ]
  },
  {
   "cell_type": "code",
   "execution_count": null,
   "metadata": {},
   "outputs": [],
   "source": [
    "# E1 - 2.1: Complete function minMaxAudio()\n",
    "\n",
    "def min_max_audio(input_file):\n",
    "    \"\"\"Compute the minimum and maximum values of the audio samples in the input file\n",
    "    \n",
    "    Args:\n",
    "        inputFile(str): file name of the wav file (including path)\n",
    "    \n",
    "    Returns:\n",
    "        tuple: minimum and maximum value of the audio samples, like: (min_val, max_val)\n",
    "    \"\"\"\n",
    "    ### Your code here\n",
    "    \n",
    "    fs, x = wavread(inputFile)\n",
    "    minimumValue = x.min()\n",
    "    maximumValue = x.max()\n",
    "    print(\"Minimum value;\")\n",
    "    print(minimumValue)\n",
    "    print(\"Maximum value;\")\n",
    "    print(maximumValue)\n",
    "    return min, max\n"
   ]
  },
  {
   "cell_type": "markdown",
   "metadata": {},
   "source": [
    "If you run `min_max_audio()` using `oboe-A4.wav` as input, it should return the following output: \n",
    "\n",
    "```\n",
    "(-0.83486432, 0.56501967)\n",
    "```"
   ]
  },
  {
   "cell_type": "code",
   "execution_count": null,
   "metadata": {},
   "outputs": [],
   "source": [
    "# E1 - 2.2: Plot input sound with x-axis in seconds, and call min_max_audio() with the proposed sound file\n",
    "\n",
    "### Your code here\n",
    "\n",
    "min_max_audio(\"../sounds/oboe-A4.wav\")"
   ]
  },
  {
   "cell_type": "markdown",
   "metadata": {},
   "source": [
    "## Part 3 - Python array indexing"
   ]
  },
  {
   "cell_type": "markdown",
   "metadata": {},
   "source": [
    "For the function `hop_samples()`, given a numpy array `x`, it should return every Mth element of `x`, starting from the first element. The input arguments to this function are a numpy array `x` and a positive integer `M` such that `M` < number of elements in `x`. The output of this function should be a numpy array."
   ]
  },
  {
   "cell_type": "code",
   "execution_count": null,
   "metadata": {},
   "outputs": [],
   "source": [
    "# E1 - 3.1: Complete the function hop_samples()\n",
    "\n",
    "def hop_samples(x, M):\n",
    "    \"\"\"Return every Mth element of the input array\n",
    "    \n",
    "    Args:\n",
    "        x(np.array): input numpy array\n",
    "        M(int): hop size (positive integer)\n",
    "    \n",
    "    Returns:\n",
    "        np.array: array containing every Mth element in x, starting from the first element in x\n",
    "    \"\"\"\n",
    "    ### Your code here\n",
    "    \n",
    "    if (M >= x.size):  # raise error if M is bigger than the number of elements in x\n",
    "        raise ValueError(\"X should be smaller than the number of elements in x\")\n",
    "\n",
    "    # select only the desired values out of x\n",
    "    y = x[0:x.size-1:M]\n",
    "    print(\"Output array with hop size M;\")\n",
    "    print(y)\n",
    "    return y\n"
   ]
  },
  {
   "cell_type": "markdown",
   "metadata": {},
   "source": [
    "If you run the function`hop_samples()` with `x = np.arange(10)` and `M = 2` as inputs, it should return: \n",
    "\n",
    "```\n",
    "array([0, 2, 4, 6, 8])\n",
    "```"
   ]
  },
  {
   "cell_type": "code",
   "execution_count": 4,
   "metadata": {},
   "outputs": [],
   "source": [
    "# E1 - 3.2: Plot input array, call hop_samples() with proposed input, and plot output array\n",
    "\n",
    "### Your code here\n",
    "\n",
    "hop_samples(np.arange(10), 2)"
   ]
  },
  {
   "cell_type": "markdown",
   "metadata": {},
   "source": [
    "## Part 4 - Downsampling\n"
   ]
  },
  {
   "cell_type": "markdown",
   "metadata": {},
   "source": [
    "One of the required processes to represent an analog signal inside a computer is sampling. The sampling rate is the number of samples obtained in one second when sampling a continuous analog signal to a discrete digital signal. As mentioned we will be working with wav audio files that have a sampling rate of 44100 Hz, which is a typical value. Here you will learn a simple way of changing the original sampling rate of a sound to a lower sampling rate, and will learn the implications it has in the audio quality.\n",
    "\n",
    "The function `down_sample_audio()` has as input an audio file with a given sampling rate, it should apply downsampling by a factor of `M` and return a down-sampled version of the input samples. The sampling rates and downsampling factors to use have to be integer values.\n",
    "\n",
    "From the output samples if you need to create a wav audio file from an array, you can use the `wavwrite()` function from the `utilFunctions.py` module. However, in this exercise there is no need to write an audio file, we will be able to hear the sound without creating a file, just playing the array of samples."
   ]
  },
  {
   "cell_type": "code",
   "execution_count": null,
   "metadata": {},
   "outputs": [],
   "source": [
    "# E1 - 4.1: Complete function down_sample_audio()\n",
    "\n",
    "def down_sample_audio(input_file, M):\n",
    "    \"\"\"Downsample by a factor of M the input signal\n",
    "    \n",
    "    Args:\n",
    "        input_file(str): file name of the wav file (including path)\n",
    "        M(int): downsampling factor (positive integer)\n",
    "        \n",
    "    Returns:\n",
    "        tuple: input samples (np.array), original sampling rate (int), down-sampled signal (np.array), \n",
    "               and new sampling rate (int), like: (x, fs, y, fs_new) \n",
    "    \"\"\"\n",
    "    ### Your code here\n",
    "    \n",
    "    fs, x = wavread(inputFile)\n",
    "\n",
    "    new_fs = fs / M\n",
    "\n",
    "    if (M > x.size):  # raise error if downsampling is bigger than the number of samples in x\n",
    "        raise ValueError(\"Downsampling factor should not be greater than the number of samples in the original audio file\")\n",
    "\n",
    "    y = hopSamples(x, M)\n",
    "\n",
    "    # cast new sampling frequency to integer, as it can not be a float\n",
    "    wavwrite(y, int(new_fs), \"A1Part4-Downsampled sound.wav\")\n",
    "        \n",
    "    return x, fs, y, new_fs"
   ]
  },
  {
   "cell_type": "markdown",
   "metadata": {},
   "source": [
    "Test cases for `down_sample_audio()`:\n",
    "\n",
    "_Test Case 1:_ Use the file from the sounds directory `vibraphone-C6.wav` and a downsampling factor of `M=14`.\n",
    "\n",
    "_Test Case 2:_ Use the  file from the sounds directory `sawtooth-440.wav` and a downsampling factor of `M=14`.\n",
    "\n",
    "To play the output samples, import the `Ipython.display` package and use `ipd.display(ipd.Audio(data=y, rate=fs_new))`. To visualize the output samples import the `matplotlib.pyplot` package and use `plt.plot(x)`.\n",
    "\n",
    "You can find some related information in https://en.wikipedia.org/wiki/Downsampling_(signal_processing)"
   ]
  },
  {
   "cell_type": "code",
   "execution_count": null,
   "metadata": {},
   "outputs": [],
   "source": [
    "import IPython.display as ipd\n",
    "import matplotlib.pyplot as plt"
   ]
  },
  {
   "cell_type": "code",
   "execution_count": 9,
   "metadata": {},
   "outputs": [
    {
     "ename": "OSError",
     "evalue": "[Errno 9] Bad file descriptor",
     "output_type": "error",
     "traceback": [
      "\u001b[0;31m---------------------------------------------------------------------------\u001b[0m",
      "\u001b[0;31mOSError\u001b[0m                                   Traceback (most recent call last)",
      "Cell \u001b[0;32mIn [9], line 18\u001b[0m\n\u001b[1;32m     15\u001b[0m file_a_fs, file_a \u001b[38;5;241m=\u001b[39m wavread(\u001b[38;5;124m\"\u001b[39m\u001b[38;5;124m../sounds/vibraphone-C6.wav\u001b[39m\u001b[38;5;124m\"\u001b[39m)\n\u001b[1;32m     16\u001b[0m file_b_fs, file_b \u001b[38;5;241m=\u001b[39m wavread(\u001b[38;5;124m\"\u001b[39m\u001b[38;5;124m../sounds/sawtooth-440.wav\u001b[39m\u001b[38;5;124m\"\u001b[39m)\n\u001b[0;32m---> 18\u001b[0m ipd\u001b[38;5;241m.\u001b[39mdisplay(ipd\u001b[38;5;241m.\u001b[39mAudio(file_a, file_a_fs))\n\u001b[1;32m     19\u001b[0m plt\u001b[38;5;241m.\u001b[39mplot(file_a)\n\u001b[1;32m     21\u001b[0m ipd\u001b[38;5;241m.\u001b[39mdisplay(ipd\u001b[38;5;241m.\u001b[39mAudio(file_b, file_b_fs))\n",
      "File \u001b[0;32m/Library/Frameworks/Python.framework/Versions/3.10/lib/python3.10/site-packages/IPython/lib/display.py:125\u001b[0m, in \u001b[0;36mAudio.__init__\u001b[0;34m(self, data, filename, url, embed, rate, autoplay, normalize, element_id)\u001b[0m\n\u001b[1;32m    123\u001b[0m \u001b[38;5;28mself\u001b[39m\u001b[38;5;241m.\u001b[39mautoplay \u001b[38;5;241m=\u001b[39m autoplay\n\u001b[1;32m    124\u001b[0m \u001b[38;5;28mself\u001b[39m\u001b[38;5;241m.\u001b[39melement_id \u001b[38;5;241m=\u001b[39m element_id\n\u001b[0;32m--> 125\u001b[0m \u001b[38;5;28;43msuper\u001b[39;49m\u001b[43m(\u001b[49m\u001b[43mAudio\u001b[49m\u001b[43m,\u001b[49m\u001b[43m \u001b[49m\u001b[38;5;28;43mself\u001b[39;49m\u001b[43m)\u001b[49m\u001b[38;5;241;43m.\u001b[39;49m\u001b[38;5;21;43m__init__\u001b[39;49m\u001b[43m(\u001b[49m\u001b[43mdata\u001b[49m\u001b[38;5;241;43m=\u001b[39;49m\u001b[43mdata\u001b[49m\u001b[43m,\u001b[49m\u001b[43m \u001b[49m\u001b[43murl\u001b[49m\u001b[38;5;241;43m=\u001b[39;49m\u001b[43murl\u001b[49m\u001b[43m,\u001b[49m\u001b[43m \u001b[49m\u001b[43mfilename\u001b[49m\u001b[38;5;241;43m=\u001b[39;49m\u001b[43mfilename\u001b[49m\u001b[43m)\u001b[49m\n\u001b[1;32m    127\u001b[0m \u001b[38;5;28;01mif\u001b[39;00m \u001b[38;5;28mself\u001b[39m\u001b[38;5;241m.\u001b[39mdata \u001b[38;5;129;01mis\u001b[39;00m \u001b[38;5;129;01mnot\u001b[39;00m \u001b[38;5;28;01mNone\u001b[39;00m \u001b[38;5;129;01mand\u001b[39;00m \u001b[38;5;129;01mnot\u001b[39;00m \u001b[38;5;28misinstance\u001b[39m(\u001b[38;5;28mself\u001b[39m\u001b[38;5;241m.\u001b[39mdata, \u001b[38;5;28mbytes\u001b[39m):\n\u001b[1;32m    128\u001b[0m     \u001b[38;5;28;01mif\u001b[39;00m rate \u001b[38;5;129;01mis\u001b[39;00m \u001b[38;5;28;01mNone\u001b[39;00m:\n",
      "File \u001b[0;32m/Library/Frameworks/Python.framework/Versions/3.10/lib/python3.10/site-packages/IPython/core/display.py:327\u001b[0m, in \u001b[0;36mDisplayObject.__init__\u001b[0;34m(self, data, url, filename, metadata)\u001b[0m\n\u001b[1;32m    324\u001b[0m \u001b[38;5;28;01melif\u001b[39;00m \u001b[38;5;28mself\u001b[39m\u001b[38;5;241m.\u001b[39mmetadata \u001b[38;5;129;01mis\u001b[39;00m \u001b[38;5;28;01mNone\u001b[39;00m:\n\u001b[1;32m    325\u001b[0m     \u001b[38;5;28mself\u001b[39m\u001b[38;5;241m.\u001b[39mmetadata \u001b[38;5;241m=\u001b[39m {}\n\u001b[0;32m--> 327\u001b[0m \u001b[38;5;28;43mself\u001b[39;49m\u001b[38;5;241;43m.\u001b[39;49m\u001b[43mreload\u001b[49m\u001b[43m(\u001b[49m\u001b[43m)\u001b[49m\n\u001b[1;32m    328\u001b[0m \u001b[38;5;28mself\u001b[39m\u001b[38;5;241m.\u001b[39m_check_data()\n",
      "File \u001b[0;32m/Library/Frameworks/Python.framework/Versions/3.10/lib/python3.10/site-packages/IPython/lib/display.py:136\u001b[0m, in \u001b[0;36mAudio.reload\u001b[0;34m(self)\u001b[0m\n\u001b[1;32m    134\u001b[0m \u001b[38;5;28;01mimport\u001b[39;00m \u001b[38;5;21;01mmimetypes\u001b[39;00m\n\u001b[1;32m    135\u001b[0m \u001b[38;5;28;01mif\u001b[39;00m \u001b[38;5;28mself\u001b[39m\u001b[38;5;241m.\u001b[39membed:\n\u001b[0;32m--> 136\u001b[0m     \u001b[38;5;28;43msuper\u001b[39;49m\u001b[43m(\u001b[49m\u001b[43mAudio\u001b[49m\u001b[43m,\u001b[49m\u001b[43m \u001b[49m\u001b[38;5;28;43mself\u001b[39;49m\u001b[43m)\u001b[49m\u001b[38;5;241;43m.\u001b[39;49m\u001b[43mreload\u001b[49m\u001b[43m(\u001b[49m\u001b[43m)\u001b[49m\n\u001b[1;32m    138\u001b[0m \u001b[38;5;28;01mif\u001b[39;00m \u001b[38;5;28mself\u001b[39m\u001b[38;5;241m.\u001b[39mfilename \u001b[38;5;129;01mis\u001b[39;00m \u001b[38;5;129;01mnot\u001b[39;00m \u001b[38;5;28;01mNone\u001b[39;00m:\n\u001b[1;32m    139\u001b[0m     \u001b[38;5;28mself\u001b[39m\u001b[38;5;241m.\u001b[39mmimetype \u001b[38;5;241m=\u001b[39m mimetypes\u001b[38;5;241m.\u001b[39mguess_type(\u001b[38;5;28mself\u001b[39m\u001b[38;5;241m.\u001b[39mfilename)[\u001b[38;5;241m0\u001b[39m]\n",
      "File \u001b[0;32m/Library/Frameworks/Python.framework/Versions/3.10/lib/python3.10/site-packages/IPython/core/display.py:353\u001b[0m, in \u001b[0;36mDisplayObject.reload\u001b[0;34m(self)\u001b[0m\n\u001b[1;32m    351\u001b[0m \u001b[38;5;28;01mif\u001b[39;00m \u001b[38;5;28mself\u001b[39m\u001b[38;5;241m.\u001b[39mfilename \u001b[38;5;129;01mis\u001b[39;00m \u001b[38;5;129;01mnot\u001b[39;00m \u001b[38;5;28;01mNone\u001b[39;00m:\n\u001b[1;32m    352\u001b[0m     encoding \u001b[38;5;241m=\u001b[39m \u001b[38;5;28;01mNone\u001b[39;00m \u001b[38;5;28;01mif\u001b[39;00m \u001b[38;5;124m\"\u001b[39m\u001b[38;5;124mb\u001b[39m\u001b[38;5;124m\"\u001b[39m \u001b[38;5;129;01min\u001b[39;00m \u001b[38;5;28mself\u001b[39m\u001b[38;5;241m.\u001b[39m_read_flags \u001b[38;5;28;01melse\u001b[39;00m \u001b[38;5;124m\"\u001b[39m\u001b[38;5;124mutf-8\u001b[39m\u001b[38;5;124m\"\u001b[39m\n\u001b[0;32m--> 353\u001b[0m     \u001b[38;5;28;01mwith\u001b[39;00m \u001b[38;5;28;43mopen\u001b[39;49m\u001b[43m(\u001b[49m\u001b[38;5;28;43mself\u001b[39;49m\u001b[38;5;241;43m.\u001b[39;49m\u001b[43mfilename\u001b[49m\u001b[43m,\u001b[49m\u001b[43m \u001b[49m\u001b[38;5;28;43mself\u001b[39;49m\u001b[38;5;241;43m.\u001b[39;49m\u001b[43m_read_flags\u001b[49m\u001b[43m,\u001b[49m\u001b[43m \u001b[49m\u001b[43mencoding\u001b[49m\u001b[38;5;241;43m=\u001b[39;49m\u001b[43mencoding\u001b[49m\u001b[43m)\u001b[49m \u001b[38;5;28;01mas\u001b[39;00m f:\n\u001b[1;32m    354\u001b[0m         \u001b[38;5;28mself\u001b[39m\u001b[38;5;241m.\u001b[39mdata \u001b[38;5;241m=\u001b[39m f\u001b[38;5;241m.\u001b[39mread()\n\u001b[1;32m    355\u001b[0m \u001b[38;5;28;01melif\u001b[39;00m \u001b[38;5;28mself\u001b[39m\u001b[38;5;241m.\u001b[39murl \u001b[38;5;129;01mis\u001b[39;00m \u001b[38;5;129;01mnot\u001b[39;00m \u001b[38;5;28;01mNone\u001b[39;00m:\n\u001b[1;32m    356\u001b[0m     \u001b[38;5;66;03m# Deferred import\u001b[39;00m\n",
      "\u001b[0;31mOSError\u001b[0m: [Errno 9] Bad file descriptor"
     ]
    }
   ],
   "source": [
    "# E1 - 4.2: Plot and play input sounds, call the function down_sample_audio() for the two test cases, \n",
    "# and plot and play the output sounds. \n",
    "\n",
    "### Your code here\n",
    "\n",
    "import sys\n",
    "import os\n",
    "import numpy as np\n",
    "sys.path.append('../software/models/')\n",
    "from utilFunctions import wavread, wavwrite\n",
    "import IPython.display as ipd\n",
    "import matplotlib.pyplot as plt\n",
    "\n",
    "\n",
    "file_a_fs, file_a = wavread(\"../sounds/vibraphone-C6.wav\")\n",
    "file_b_fs, file_b = wavread(\"../sounds/sawtooth-440.wav\")\n",
    "\n",
    "ipd.display(ipd.Audio(file_a, file_a_fs))\n",
    "plt.plot(file_a)\n",
    "\n",
    "ipd.display(ipd.Audio(file_b, file_b_fs))\n",
    "plt.plot(file_b)\n",
    "\n",
    "a, a_fs, a_downsampled, a_downsampled_fs = down_sample_audio(file_a, 14)\n",
    "\n",
    "b, b_fs, b_downsampled, b_downsampled_fs = down_sample_audio(file_b, 14)\n",
    "\n",
    "ipd.display(ipd.Audio(a_downsampled, a_downsampled_fs))\n",
    "plt.plot(a_downsampled)\n",
    "\n",
    "ipd.display(ipd.Audio(b_downsampled, b_downsampled_fs))\n",
    "plt.plot(b_downsampled)"
   ]
  },
  {
   "cell_type": "code",
   "execution_count": null,
   "metadata": {},
   "outputs": [],
   "source": [
    "# E1 - 4.3: Explain the results of part 4. What happened to the output signals compared to the input ones? \n",
    "# Is there a difference between the 2 cases? Why? How could we avoid damaging the signal when downsampling it?\n",
    "\n",
    "\"\"\"\n",
    "    The acoustic effect of down-sampling is perceived like a low-pass filtering.\n",
    "    Since the original waveform is sampled less often, the high-frequency content of the original audio is cancelled (but this also depends on the higher pitch contained in the original audio).\n",
    "    This is explained by the Nyquist Theorem; to reproduce faithfully a partial (sinusoid) of a sound, we need at least 2 samples of it within a cyle/period.\n",
    "        Thus, the sampling frequency must be at least 2 times the highest frequency contained in the original audio file.\n",
    "        If we don't respect this concept, the downsample results in a loss of quality (low pass filtering).\n",
    "\n",
    "    When downsampling, we can avoid damaging the signal by knowing which is the highest pitch in a signal (taking a Fourier Transform), and avoid to\n",
    "    sample at a frequency which is lower than the double of that frequency.\n",
    "\"\"\""
   ]
  }
 ],
 "metadata": {
  "kernelspec": {
   "display_name": "Python 3 (ipykernel)",
   "language": "python",
   "name": "python3"
  },
  "language_info": {
   "codemirror_mode": {
    "name": "ipython",
    "version": 3
   },
   "file_extension": ".py",
   "mimetype": "text/x-python",
   "name": "python",
   "nbconvert_exporter": "python",
   "pygments_lexer": "ipython3",
   "version": "3.10.7"
  }
 },
 "nbformat": 4,
 "nbformat_minor": 4
}
